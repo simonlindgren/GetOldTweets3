{
 "cells": [
  {
   "cell_type": "markdown",
   "metadata": {},
   "source": [
    "# Get Old Tweets"
   ]
  },
  {
   "cell_type": "code",
   "execution_count": 1,
   "metadata": {},
   "outputs": [],
   "source": [
    "import got3 as got\n",
    "import sqlite3\n",
    "import pandas as pd\n",
    "import re\n",
    "import datetime"
   ]
  },
  {
   "cell_type": "markdown",
   "metadata": {},
   "source": [
    "`validate` function (for checking datetime format)"
   ]
  },
  {
   "cell_type": "code",
   "execution_count": 2,
   "metadata": {
    "jupyter": {
     "source_hidden": true
    }
   },
   "outputs": [],
   "source": [
    "def validate(date_text):\n",
    "    try:\n",
    "        datetime.datetime.strptime(date_text, '%Y-%m-%d')\n",
    "    except ValueError:\n",
    "        raise ValueError(\"Incorrect data format, should be YYYY-MM-DD\")"
   ]
  },
  {
   "cell_type": "markdown",
   "metadata": {},
   "source": [
    "`project_setup` function"
   ]
  },
  {
   "cell_type": "code",
   "execution_count": 18,
   "metadata": {
    "jupyter": {
     "source_hidden": true
    }
   },
   "outputs": [],
   "source": [
    "def project_setup():\n",
    "    projname = input(\"Project name? \")\n",
    "    global dbname\n",
    "    dbname = (projname + \".db\")\n",
    "    \n",
    "    print(\"Searches can by done by search term(s), by username(s), or by both in combination\")\n",
    "    \n",
    "    # QUERYSEARCH\n",
    "    print(\"\")\n",
    "    print(\"Search terms, one or several separated by comma\")\n",
    "    print(\"Leave empty to only search by username\")\n",
    "    global keywords\n",
    "    keywords = \"\"\n",
    "    keywords = input('e.g. monkey,\"time for bananas\",#ape2020,\"donkey kong\": ')\n",
    "    \n",
    "    # USERNAMES\n",
    "    print(\"\")\n",
    "    print(\"Usernames, one or several separated by space\")\n",
    "    print(\"Leave empty to only search by terms\")\n",
    "    global usernames\n",
    "    usernames = \"\"\n",
    "    usernames = input('e.g. @nintendo @jupyter: ')\n",
    "    usernames = [un for un in usernames.split()]\n",
    "    \n",
    "    # DATES\n",
    "    print(\"\")\n",
    "    print(\"Enter date range for search in YYYY-NN-DD format\")\n",
    "    global since\n",
    "    since = (input(\"start date UTC (included in search): \"))\n",
    "    validate(since)\n",
    "    global until\n",
    "    until = (input(\"end date UTC (excluded from search): \"))\n",
    "    validate(until)\n",
    "    \n",
    "    # TOPTWEETS\n",
    "    print(\"\")\n",
    "    print(\"Do you want to get only the Top Tweets?\")\n",
    "    global toptweets\n",
    "    top_t = input(\"y/n? \")\n",
    "    if top_t == \"y\":\n",
    "        toptweets = True\n",
    "    else:\n",
    "        toptweets = False\n",
    "    \n",
    "    #MAXTWEETS\n",
    "    print(\"\")\n",
    "    print(\"\\nEnter maximum number of tweets to get per keyword, or set 0 to get all possible tweets\")\n",
    "    global maxtweets\n",
    "    maxtweets = (input(\"max tweets \"))\n",
    "    if maxtweets.isnumeric():\n",
    "        maxtweets = int(maxtweets)\n",
    "        pass\n",
    "    else:\n",
    "        print(\"You did not enter a numeric value\")\n",
    "        sys.exit()"
   ]
  },
  {
   "cell_type": "markdown",
   "metadata": {},
   "source": [
    "`create_database` function"
   ]
  },
  {
   "cell_type": "code",
   "execution_count": 4,
   "metadata": {
    "jupyter": {
     "source_hidden": true
    }
   },
   "outputs": [],
   "source": [
    "def create_database():\n",
    "    try:\n",
    "        conn = sqlite3.connect(dbname)\n",
    "        c = conn.cursor()\n",
    "        c.execute(\"\"\"CREATE TABLE tweets (\n",
    "        tweet_id TEXT,\n",
    "        author TEXT,\n",
    "        in_reply_to TEXT,\n",
    "        tweet TEXT,\n",
    "        date TEXT,\n",
    "        retweets INT,\n",
    "        favourites INT,\n",
    "        mentions TEXT,\n",
    "        hashtags TEXT,\n",
    "        geo TEXT)\n",
    "        \"\"\")\n",
    "        conn.close()\n",
    "    except:\n",
    "        print(\"A database with this name already exists\")\n",
    "        sys.exit()       "
   ]
  },
  {
   "cell_type": "markdown",
   "metadata": {},
   "source": [
    "`run_search` function"
   ]
  },
  {
   "cell_type": "code",
   "execution_count": 27,
   "metadata": {
    "jupyter": {
     "source_hidden": true
    }
   },
   "outputs": [],
   "source": [
    "def run_search():\n",
    "    \n",
    "    for kw in keywords.split(\",\"):\n",
    "        \n",
    "        conn = sqlite3.connect(dbname)\n",
    "    \n",
    "        tweetCriteria = got.manager.TweetCriteria()\n",
    "\n",
    "        # Set the search parameters that we always set       \n",
    "        tweetCriteria.setMaxTweets(maxtweets)\n",
    "        tweetCriteria.setSince(since)\n",
    "        tweetCriteria.setUntil(until)\n",
    "        tweetCriteria.setTopTweets(toptweets)\n",
    "        tweetCriteria.setEmoji(\"unicode\")\n",
    "\n",
    "        if len(keywords) != 0:\n",
    "            tweetCriteria.setQuerySearch(kw)\n",
    "        if len(usernames) != 0:\n",
    "            tweetCriteria.setUsername(usernames)\n",
    "        \n",
    "\n",
    "        tweets = got.manager.TweetManager.getTweets(tweetCriteria)\n",
    "        for t in tweets:\n",
    "            tweet_id = t.id\n",
    "            author = t.username\n",
    "            in_reply_to = t.to\n",
    "            tweet = t.text\n",
    "            date = t.date\n",
    "            retweets = t.retweets\n",
    "            favourites = t.favorites\n",
    "            mentions = t.mentions\n",
    "            hashtags = t.hashtags\n",
    "            geo = t.geo\n",
    "            \n",
    "            \n",
    "            conn.execute('INSERT INTO tweets (tweet_id, author, in_reply_to, tweet, date, retweets, favourites, mentions, hashtags,geo) VALUES (?,?,?,?,?,?,?,?,?,?)',\\\n",
    "                         (tweet_id, author, in_reply_to, tweet, date, retweets, favourites, mentions, hashtags, geo))\n",
    "            conn.commit()"
   ]
  },
  {
   "cell_type": "markdown",
   "metadata": {},
   "source": [
    "`remove_duplicates` function"
   ]
  },
  {
   "cell_type": "code",
   "execution_count": 6,
   "metadata": {
    "jupyter": {
     "source_hidden": true
    }
   },
   "outputs": [],
   "source": [
    "def remove_duplicates():\n",
    "\n",
    "    conn = sqlite3.connect(dbname)\n",
    "    cur = conn.cursor()\n",
    "    cur.execute(\"CREATE TABLE temp_table as SELECT DISTINCT * FROM tweets\")\n",
    "    cur.execute(\"DELETE from tweets\")\n",
    "    conn.commit()\n",
    "\n",
    "    cur.execute(\"INSERT INTO tweets SELECT * FROM temp_table\")\n",
    "    cur.execute(\"DELETE from temp_table\")\n",
    "    conn.commit()"
   ]
  },
  {
   "cell_type": "markdown",
   "metadata": {},
   "source": [
    "`preview_data` function"
   ]
  },
  {
   "cell_type": "code",
   "execution_count": 7,
   "metadata": {
    "jupyter": {
     "source_hidden": true
    }
   },
   "outputs": [],
   "source": [
    "def preview_data():\n",
    "    conn = sqlite3.connect(dbname)\n",
    "    df = pd.read_sql_query(\"SELECT * FROM tweets\", conn)\n",
    "    print(df.head(20))"
   ]
  },
  {
   "cell_type": "code",
   "execution_count": 23,
   "metadata": {},
   "outputs": [],
   "source": [
    "def main():\n",
    "    project_setup()\n",
    "    create_database()\n",
    "    run_search()\n",
    "    remove_duplicates()\n",
    "    #preview_data()"
   ]
  },
  {
   "cell_type": "code",
   "execution_count": 28,
   "metadata": {
    "collapsed": true,
    "jupyter": {
     "outputs_hidden": true
    }
   },
   "outputs": [
    {
     "name": "stdin",
     "output_type": "stream",
     "text": [
      "Project name?  asfj0jå4\n"
     ]
    },
    {
     "name": "stdout",
     "output_type": "stream",
     "text": [
      "Searches can by done by search term(s), by username(s), or by both in combination\n",
      "\n",
      "Search terms, one or several separated by comma\n",
      "Leave empty to only search by username\n"
     ]
    },
    {
     "name": "stdin",
     "output_type": "stream",
     "text": [
      "e.g. monkey,\"time for bananas\",#ape2020,\"donkey kong\":  monkey,\"love this\",#metoo\n"
     ]
    },
    {
     "name": "stdout",
     "output_type": "stream",
     "text": [
      "\n",
      "Usernames, one or several separated by space\n",
      "Leave empty to only search by terms\n"
     ]
    },
    {
     "name": "stdin",
     "output_type": "stream",
     "text": [
      "e.g. @nintendo @jupyter:  \n"
     ]
    },
    {
     "name": "stdout",
     "output_type": "stream",
     "text": [
      "\n",
      "Enter date range for search in YYYY-NN-DD format\n"
     ]
    },
    {
     "name": "stdin",
     "output_type": "stream",
     "text": [
      "start date UTC (included in search):  2015-01-01\n",
      "end date UTC (excluded from search):  2020-01-01\n"
     ]
    },
    {
     "name": "stdout",
     "output_type": "stream",
     "text": [
      "\n",
      "Do you want to get only the Top Tweets?\n"
     ]
    },
    {
     "name": "stdin",
     "output_type": "stream",
     "text": [
      "y/n?  y\n"
     ]
    },
    {
     "name": "stdout",
     "output_type": "stream",
     "text": [
      "\n",
      "\n",
      "Enter maximum number of tweets to get per keyword, or set 0 to get all possible tweets\n"
     ]
    },
    {
     "name": "stdin",
     "output_type": "stream",
     "text": [
      "max tweets  10\n"
     ]
    },
    {
     "name": "stdout",
     "output_type": "stream",
     "text": [
      "               tweet_id          author      in_reply_to  \\\n",
      "0   1212159343929393152   VickieLFisher  VictorF05184461   \n",
      "1   1212158659565932551     homechekker     TheJasonPugh   \n",
      "2   1212155716670234626     ultimatejjp             None   \n",
      "3   1212155477817094146   SinbadTattCat             None   \n",
      "4   1212154384349646850    Monkey_Pants             None   \n",
      "5   1212153904525455360     sams_monkey             None   \n",
      "6   1212150199814098945      wildstersx             None   \n",
      "7   1212149867276980224     PostCultRev             None   \n",
      "8   1212149077137215488  claricecsorcha             None   \n",
      "9   1212146709507084288     evangerules             None   \n",
      "10  1212161306683305984       ElyseFitz             None   \n",
      "11  1212160838414618625    iamwillsteel             None   \n",
      "12  1212160705601904640     DEEJAYGARNA             None   \n",
      "13  1212160283118096384   thewritertype             None   \n",
      "14  1212160206718865414    badniggafela             None   \n",
      "15  1212159827008339969  lizzysawrusrex             None   \n",
      "16  1212159564629630976  KSUWindbreaker             None   \n",
      "17  1212159423206084610  TripleBRecords             None   \n",
      "18  1212159211414736896    JeffStelling    Official_HUFC   \n",
      "19  1212158986188775425   Airwrecka_fit             None   \n",
      "\n",
      "                                                tweet  \\\n",
      "0   Schiff Waters & Sp Pelosi too busy with Monkey...   \n",
      "1   essentially admits CPC is so bankrupt of ideas...   \n",
      "2   bruh. look at him jumpin around like a cute li...   \n",
      "3   Chunky Monkey after a hard day catting ~ @Feli...   \n",
      "4   So it turns out that the terrace of the Hyatt ...   \n",
      "5   Monkey at the beginning and end of the decade....   \n",
      "6                                          my monkey    \n",
      "7   My 2020 energy is to become an organ grinder w...   \n",
      "8   Man, this whole thing really be like, Fans: WE...   \n",
      "9   In this decade Monkey &amp; Lulu were born int...   \n",
      "10  I love after-Christmas presents...Don’t you? A...   \n",
      "11  THIS YEAR YOU WILL GET A JOB THIS YEAR YOU WIL...   \n",
      "12  Bare surprises tomorrow... see you next year.....   \n",
      "13  I love this time of year, just before the future.   \n",
      "14  Mum just entered room and started praying for ...   \n",
      "15                           I love this cartoonist!    \n",
      "16  I love this coaching staff but WHY IN THE EVER...   \n",
      "17            Love this graphic of our 2019 releases    \n",
      "18  Thanks to our amazing fans who keep turning ou...   \n",
      "19  I love this man. Happy to start another year w...   \n",
      "\n",
      "                         date  retweets  favourites  \\\n",
      "0   2019-12-31 23:51:23+00:00         6          35   \n",
      "1   2019-12-31 23:48:39+00:00         4          12   \n",
      "2   2019-12-31 23:36:58+00:00        11          25   \n",
      "3   2019-12-31 23:36:01+00:00         3          59   \n",
      "4   2019-12-31 23:31:40+00:00         2          52   \n",
      "5   2019-12-31 23:29:46+00:00        38         167   \n",
      "6   2019-12-31 23:15:02+00:00         2           8   \n",
      "7   2019-12-31 23:13:43+00:00        24         108   \n",
      "8   2019-12-31 23:10:35+00:00        20          91   \n",
      "9   2019-12-31 23:01:10+00:00         0          25   \n",
      "10  2019-12-31 23:59:11+00:00         1          58   \n",
      "11  2019-12-31 23:57:19+00:00        41          91   \n",
      "12  2019-12-31 23:56:47+00:00         8          14   \n",
      "13  2019-12-31 23:55:07+00:00        13          48   \n",
      "14  2019-12-31 23:54:48+00:00        12         113   \n",
      "15  2019-12-31 23:53:18+00:00        12          46   \n",
      "16  2019-12-31 23:52:15+00:00        21         269   \n",
      "17  2019-12-31 23:51:41+00:00        32         169   \n",
      "18  2019-12-31 23:50:51+00:00        20         259   \n",
      "19  2019-12-31 23:49:57+00:00         2          39   \n",
      "\n",
      "                                             mentions  \\\n",
      "0                                                       \n",
      "1                                                       \n",
      "2                                                       \n",
      "3                                    @FelineChairThi1   \n",
      "4                                                       \n",
      "5                                                       \n",
      "6                                                       \n",
      "7                                                       \n",
      "8                                                       \n",
      "9                                                       \n",
      "10                                                      \n",
      "11                                                      \n",
      "12  @dj_slimzee @slimzosrecs @rotpotrecords @2002R...   \n",
      "13                                                      \n",
      "14                                                      \n",
      "15                                                      \n",
      "16                                                      \n",
      "17                                                      \n",
      "18                                                      \n",
      "19                                                      \n",
      "\n",
      "                          hashtags geo  \n",
      "0                                       \n",
      "1                                       \n",
      "2                                       \n",
      "3                                       \n",
      "4                                       \n",
      "5         #10YearChallenge #sepsis      \n",
      "6                                       \n",
      "7                                       \n",
      "8                                       \n",
      "9                                       \n",
      "10                                      \n",
      "11  #HAPPYNEWYEAR2020 #2020NewYear      \n",
      "12                                      \n",
      "13                                      \n",
      "14                                      \n",
      "15                                      \n",
      "16                                      \n",
      "17                                      \n",
      "18                                      \n",
      "19                                      \n"
     ]
    }
   ],
   "source": [
    "main()"
   ]
  }
 ],
 "metadata": {
  "kernelspec": {
   "display_name": "Python 3",
   "language": "python",
   "name": "python3"
  },
  "language_info": {
   "codemirror_mode": {
    "name": "ipython",
    "version": 3
   },
   "file_extension": ".py",
   "mimetype": "text/x-python",
   "name": "python",
   "nbconvert_exporter": "python",
   "pygments_lexer": "ipython3",
   "version": "3.7.4"
  }
 },
 "nbformat": 4,
 "nbformat_minor": 4
}
